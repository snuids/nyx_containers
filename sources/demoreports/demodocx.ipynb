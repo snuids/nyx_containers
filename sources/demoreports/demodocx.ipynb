{
 "cells": [
  {
   "cell_type": "markdown",
   "metadata": {},
   "source": [
    "# ONLOAD cells are called at beginning of the report\n",
    "## Available global variables:\n",
    "* es: elasticsearch connection\n",
    "* replacementHT: a dictionary of replacement tags\n",
    "* report: the report object\n",
    "* params: the parameters (interval are plits in two name_start + name_end"
   ]
  },
  {
   "cell_type": "code",
   "execution_count": null,
   "metadata": {},
   "outputs": [],
   "source": [
    "#@ONLOAD\n",
    "\n",
    "replacementHT[\"Author\"]=\"Arnaud Marchand\"\n",
    "replacementHT[\"GenerationDate\"]=datetime.now().strftime(\"%d/%b/%y %H:%M\")\n",
    "replacementHT[\"Start\"]=replacementHT[\"param2_start\"].strftime(\"%d%b%y\")\n",
    "replacementHT[\"End\"]=replacementHT[\"param2_end\"].strftime(\"%d%b%y\")"
   ]
  },
  {
   "cell_type": "code",
   "execution_count": null,
   "metadata": {},
   "outputs": [],
   "source": [
    "#@ONLOAD\n",
    "\n",
    "replacementHT[\"Apps\"]=es_helper.elastic_to_dataframe(es,\"nyx_app\").shape[0]\n",
    "replacementHT[\"Reports\"]=es_helper.elastic_to_dataframe(es,\"nyx_reportdef\").shape[0]\n",
    "replacementHT[\"Privileges\"]=es_helper.elastic_to_dataframe(es,\"nyx_privilege\").shape[0]\n",
    "replacementHT[\"Users\"]=es_helper.elastic_to_dataframe(es,\"nyx_user\").shape[0]"
   ]
  },
  {
   "cell_type": "markdown",
   "metadata": {},
   "source": [
    "# TEXT"
   ]
  },
  {
   "cell_type": "code",
   "execution_count": null,
   "metadata": {},
   "outputs": [],
   "source": [
    "#@PARAGRAPH=TextParagraph\n",
    "\n",
    "paragraph.text=\"Fair trade is an institutional arrangement designed to help producers in developing countries achieve better trading conditions. Members of the fair trade movement advocate the payment of higher prices to exporters, as well as improved social and environmental standards.\"\n"
   ]
  },
  {
   "cell_type": "code",
   "execution_count": null,
   "metadata": {},
   "outputs": [],
   "source": [
    "#@PARAGRAPH=DynamicTable\n",
    "\n",
    "df_privileges=es_helper.elastic_to_dataframe(es,\"nyx_privilege\")\n",
    "df_privileges=df_privileges[[\"_id\",\"name\",\"value\"]]\n",
    "df_privileges.columns=[\"ID\",\"Name\",\"Value\"]\n",
    "create_table(paragraph,df_privileges, 'Grid Table 4 Accent 5')\n",
    "\n",
    "#df_privileges=es_helper.elastic_to_dataframe(es,\"nyx_user\")\n",
    "#df_privileges=df_privileges[[\"_id\",\"name\",\"value\"]]\n",
    "#df_privileges.columns=[\"ID\",\"Name\",\"Value\"]\n",
    "#create_table(paragraph,df_privileges, 'Grid Table 4 Accent 5')"
   ]
  },
  {
   "cell_type": "markdown",
   "metadata": {},
   "source": [
    "# Charts"
   ]
  },
  {
   "cell_type": "code",
   "execution_count": null,
   "metadata": {},
   "outputs": [],
   "source": [
    "#@PARAGRAPH=PieChart\n",
    "\n",
    "# Pie chart, where the slices will be ordered and plotted counter-clockwise:\n",
    "labels = 'Frogs2', 'Hogs', 'Dogs', 'Logs'\n",
    "sizes = [15, 30, 45, 10]\n",
    "explode = (0, 0.1, 0, 0)  # only \"explode\" the 2nd slice (i.e. 'Hogs')\n",
    "\n",
    "fig1, ax1 = plt.subplots()\n",
    "ax1.pie(sizes, explode=explode, labels=labels, autopct='%1.1f%%',shadow=False, startangle=90)\n",
    "ax1.axis('equal')  # Equal aspect ratio ensures that pie is drawn as a circle.\n",
    "plt.tight_layout()\n",
    "plt.savefig(\"./tmp/piechart.png\", dpi = 600)\n",
    "\n",
    "run = paragraph.add_run()\n",
    "run.add_picture(\"./tmp/piechart.png\", width=Inches(5.6))"
   ]
  },
  {
   "cell_type": "code",
   "execution_count": null,
   "metadata": {},
   "outputs": [],
   "source": [
    "#@PARAGRAPH=BarChart\n",
    "\n",
    "objects = ('Python', 'C++', 'Java', 'Perl', 'Scala', 'Lisp')\n",
    "y_pos = np.arange(len(objects))\n",
    "performance = [10,8,6,4,2,1]\n",
    "\n",
    "plt.bar(y_pos, performance, align='center', alpha=0.5)\n",
    "plt.xticks(y_pos, objects)\n",
    "plt.ylabel('Usage')\n",
    "plt.title('Programming language usage')\n",
    "\n",
    "plt.tight_layout()\n",
    "plt.savefig(\"./tmp/barchart.png\", dpi = 600)\n",
    "\n",
    "run = paragraph.add_run()\n",
    "run.add_picture(\"./tmp/barchart.png\", width=Inches(3.6))"
   ]
  },
  {
   "cell_type": "markdown",
   "metadata": {},
   "source": [
    "# BROL"
   ]
  },
  {
   "cell_type": "code",
   "execution_count": null,
   "metadata": {},
   "outputs": [],
   "source": [
    "from elasticsearch import Elasticsearch as ES, RequestsHttpConnection as RC\n",
    "import collections\n",
    "import datetime\n",
    "from elastic_helper import es_helper\n",
    "\n",
    "host_params=\"http://esnodebal:9200\"\n",
    "es = ES(hosts=[host_params])\n",
    "\n",
    "es.info()\n",
    "replacementHT={}"
   ]
  }
 ],
 "metadata": {
  "kernelspec": {
   "display_name": "Python 3",
   "language": "python",
   "name": "python3"
  },
  "language_info": {
   "codemirror_mode": {
    "name": "ipython",
    "version": 3
   },
   "file_extension": ".py",
   "mimetype": "text/x-python",
   "name": "python",
   "nbconvert_exporter": "python",
   "pygments_lexer": "ipython3",
   "version": "3.7.3"
  }
 },
 "nbformat": 4,
 "nbformat_minor": 2
}
